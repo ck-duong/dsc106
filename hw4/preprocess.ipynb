{
 "cells": [
  {
   "cell_type": "code",
   "execution_count": null,
   "metadata": {},
   "outputs": [],
   "source": [
    "#imports for website dev/plotting\n",
    "import dash\n",
    "import dash_core_components as dcc\n",
    "import dash_html_components as html\n",
    "import plotly.graph_objs as go\n",
    "import plotly.express as px\n",
    "\n",
    "#imports for data + manipulation\n",
    "import pandas as pd\n",
    "import numpy as np\n",
    "import imdb\n",
    "from bs4 import BeautifulSoup\n",
    "import requests\n",
    "import re\n",
    "\n",
    "#other imports\n",
    "import os"
   ]
  },
  {
   "cell_type": "markdown",
   "metadata": {},
   "source": [
    "## Get Data\n",
    "Using the imdbpy API to get data about Rachel Weisz from IMDB."
   ]
  },
  {
   "cell_type": "code",
   "execution_count": null,
   "metadata": {},
   "outputs": [],
   "source": [
    "ia = imdb.IMDb()"
   ]
  },
  {
   "cell_type": "code",
   "execution_count": null,
   "metadata": {},
   "outputs": [],
   "source": [
    "movie_cols = ia.get_movie_infoset()\n",
    "star_cols = ia.get_person_infoset()"
   ]
  },
  {
   "cell_type": "code",
   "execution_count": null,
   "metadata": {},
   "outputs": [],
   "source": [
    "rachel_id = ia.search_person('Rachel Weisz')[0].personID"
   ]
  },
  {
   "cell_type": "code",
   "execution_count": null,
   "metadata": {},
   "outputs": [],
   "source": [
    "rachel = ia.get_person(rachel_id)"
   ]
  },
  {
   "cell_type": "code",
   "execution_count": null,
   "metadata": {},
   "outputs": [],
   "source": [
    "rachel_movies = rachel['filmography'][0]['actress']\n",
    "rachel_movie_ids = [i.movieID for i in rachel_movies]"
   ]
  },
  {
   "cell_type": "markdown",
   "metadata": {},
   "source": [
    "## Data Cleaning\n",
    "Pulling relevant data from each movie from Rachel Weisz's filmography. Putting the data into a DataFrame to be saved to a csv so that it can be easily accessed in the Dash app. Made function to scrape boxofficemojo to get the box office gross of each movie."
   ]
  },
  {
   "cell_type": "code",
   "execution_count": null,
   "metadata": {},
   "outputs": [],
   "source": [
    "#mov.infoset2keys (to see the info pulled)\n",
    "#var(mov) (to see the attributes of Movies/Person)\n",
    "movies = []\n",
    "important_keys = ['original title', 'genres', 'runtimes', 'countries', 'country codes', 'votes',\n",
    "                 'year', 'rating', 'original air date', 'kind', 'awards']"
   ]
  },
  {
   "cell_type": "code",
   "execution_count": null,
   "metadata": {},
   "outputs": [],
   "source": [
    "for i in rachel_movie_ids:\n",
    "    movie = ia.get_movie(i, info = ['main', 'awards'])\n",
    "    movie_info = []\n",
    "    for k in important_keys:\n",
    "        try:\n",
    "            val = movie[k]\n",
    "            movie_info.append(val)\n",
    "        except:\n",
    "            movie_info.append(np.nan)\n",
    "    \n",
    "    movies.append(movie_info)"
   ]
  },
  {
   "cell_type": "code",
   "execution_count": null,
   "metadata": {},
   "outputs": [],
   "source": [
    "df = pd.DataFrame(movies, columns = important_keys)\n",
    "df['id'] = rachel_movie_ids\n",
    "df.head()"
   ]
  },
  {
   "cell_type": "code",
   "execution_count": null,
   "metadata": {},
   "outputs": [],
   "source": [
    "def box_office(movie_id):\n",
    "    try:\n",
    "        imdb_id = 'tt' + str(movie_id)\n",
    "\n",
    "        # Fetch the box office numbers\n",
    "        base = 'https://www.boxofficemojo.com'\n",
    "        url = base + '/title/' + imdb_id\n",
    "        source = requests.get(url).text\n",
    "        soup = BeautifulSoup(source,'lxml')\n",
    "        table = soup('th', text=re.compile(r'Release Group'))[0].parent.parent\n",
    "        group = table.findAll('tr', recursive=False)[1].find('a').get('href')\n",
    "        url = base + group\n",
    "\n",
    "        # Get total earnings domestic and international\n",
    "        source = requests.get(url).text\n",
    "        soup = BeautifulSoup(source,'lxml')\n",
    "        earnings = soup('h2', text=re.compile(r'Rollout'))[0].parent.parent.findAll('div')\n",
    "        domestic = earnings[1].find('span', {'class': 'money'}).get_text()\n",
    "        domestic_url = earnings[1].find('a').get('href')\n",
    "        international = earnings[2].find('span', {'class': 'money'}).get_text()\n",
    "\n",
    "        domestic = domestic.replace('$', '').replace(',', '')\n",
    "        international = international.strip('$').replace(',', '')\n",
    "    except:\n",
    "        domestic = np.nan\n",
    "        international = np.nan\n",
    "    \n",
    "    return str(domestic) + ',' + str(international)"
   ]
  },
  {
   "cell_type": "code",
   "execution_count": null,
   "metadata": {},
   "outputs": [],
   "source": [
    "gross = df.loc[df['kind'] == 'movie']['id'].apply(box_office)"
   ]
  },
  {
   "cell_type": "code",
   "execution_count": null,
   "metadata": {},
   "outputs": [],
   "source": [
    "gross_re = gross.str.split(',', expand=True)\n",
    "gross_re.columns = ['domestic', 'international']\n",
    "gross_re = gross_re.replace('nan', np.nan)\n",
    "gross_re['domestic'] = gross_re['domestic'].astype(float)\n",
    "gross_re['international'] = gross_re['international'].astype(float)"
   ]
  },
  {
   "cell_type": "code",
   "execution_count": null,
   "metadata": {},
   "outputs": [],
   "source": [
    "rachel_df = pd.concat([df.loc[df['kind'] == 'movie'], gross_re], axis = 1)"
   ]
  },
  {
   "cell_type": "code",
   "execution_count": null,
   "metadata": {},
   "outputs": [],
   "source": [
    "rachel_df['runtimes'] = rachel_df['runtimes'].apply(lambda x: x[0] if type(x) != float else x)\n",
    "rachel_df['total'] = rachel_df['domestic'] + rachel_df['international']"
   ]
  },
  {
   "cell_type": "code",
   "execution_count": null,
   "metadata": {},
   "outputs": [],
   "source": [
    "rachel_df.reset_index(drop = True).to_csv('rachel.csv')"
   ]
  },
  {
   "cell_type": "code",
   "execution_count": null,
   "metadata": {},
   "outputs": [],
   "source": [
    "countries = rachel_df.groupby('year')['countries'].sum()\n",
    "countries = countries.reset_index()\n",
    "yearly = countries['countries'].apply(lambda x: pd.Series(x).value_counts()).fillna(0)\n",
    "yearly['year'] = countries.year\n",
    "country_df = pd.melt(yearly, 'year').rename({'variable': 'Country', 'value': 'Movie Count', 'year': 'Year'}, axis = 1)\n",
    "country_df = country_df.loc[country_df['Movie Count'] > 0].sort_values('Year').reset_index(drop = True)"
   ]
  },
  {
   "cell_type": "code",
   "execution_count": null,
   "metadata": {},
   "outputs": [],
   "source": [
    "px.choropleth(country_df, locations =  'Country', locationmode = 'country names', color = 'Movie Count', \n",
    "             animation_frame=\"Year\")"
   ]
  },
  {
   "cell_type": "code",
   "execution_count": null,
   "metadata": {},
   "outputs": [],
   "source": [
    "#TODO: network graph, something about financials and being gay"
   ]
  },
  {
   "cell_type": "code",
   "execution_count": null,
   "metadata": {},
   "outputs": [],
   "source": [
    "dropped = rachel_df.dropna(subset = ['domestic', 'international'])\\\n",
    "[['original title', 'domestic', 'international', 'total']]\n",
    "\n",
    "labels = dropped['original title'].tolist()\n",
    "parents = ['Rachel Weisz Movies' for x in labels]\n",
    "\n",
    "labels.append('Rachel Weisz Movies')\n",
    "parents.append('')\n",
    "\n",
    "fig = go.Figure()\n",
    "fig.add_trace(go.Treemap(\n",
    "    labels = labels,\n",
    "    parents = parents,\n",
    "    ))\n",
    "fig.show()"
   ]
  },
  {
   "cell_type": "code",
   "execution_count": null,
   "metadata": {},
   "outputs": [],
   "source": [
    "import plotly\n",
    "plotly.__version__"
   ]
  },
  {
   "cell_type": "code",
   "execution_count": null,
   "metadata": {},
   "outputs": [],
   "source": []
  }
 ],
 "metadata": {
  "kernelspec": {
   "display_name": "Python 3",
   "language": "python",
   "name": "python3"
  },
  "language_info": {
   "codemirror_mode": {
    "name": "ipython",
    "version": 3
   },
   "file_extension": ".py",
   "mimetype": "text/x-python",
   "name": "python",
   "nbconvert_exporter": "python",
   "pygments_lexer": "ipython3",
   "version": "3.7.3"
  }
 },
 "nbformat": 4,
 "nbformat_minor": 4
}
