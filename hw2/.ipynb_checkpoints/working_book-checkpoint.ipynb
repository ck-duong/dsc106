{
 "cells": [
  {
   "cell_type": "code",
   "execution_count": 1,
   "metadata": {},
   "outputs": [],
   "source": [
    "#imports for website dev\n",
    "import dash\n",
    "import dash_core_components as dcc\n",
    "import dash_html_components as html\n",
    "\n",
    "#imports for reading csv/plotting\n",
    "import pandas as pd\n",
    "import numpy as np\n",
    "import plotly.graph_objs as go\n",
    "\n",
    "#other imports\n",
    "import os\n",
    "import datetime"
   ]
  },
  {
   "cell_type": "code",
   "execution_count": 2,
   "metadata": {},
   "outputs": [],
   "source": [
    "daily_data_path = os.path.join('data', 'daily_sales.csv')\n",
    "monthly_data_path = os.path.join('data', 'monthly_sales.csv')\n",
    "\n",
    "daily = pd.read_csv(daily_data_path)\n",
    "monthly = pd.read_csv(monthly_data_path)"
   ]
  },
  {
   "cell_type": "code",
   "execution_count": 42,
   "metadata": {},
   "outputs": [],
   "source": [
    "daily['Day of Week'] = pd.Categorical(daily['Day of Week'], categories=\n",
    "    ['Monday','Tuesday','Wednesday','Thursday','Friday','Saturday', 'Sunday'],\n",
    "    ordered=True)"
   ]
  },
  {
   "cell_type": "code",
   "execution_count": 128,
   "metadata": {},
   "outputs": [
    {
     "data": {
      "text/html": [
       "<div>\n",
       "<style scoped>\n",
       "    .dataframe tbody tr th:only-of-type {\n",
       "        vertical-align: middle;\n",
       "    }\n",
       "\n",
       "    .dataframe tbody tr th {\n",
       "        vertical-align: top;\n",
       "    }\n",
       "\n",
       "    .dataframe thead th {\n",
       "        text-align: right;\n",
       "    }\n",
       "</style>\n",
       "<table border=\"1\" class=\"dataframe\">\n",
       "  <thead>\n",
       "    <tr style=\"text-align: right;\">\n",
       "      <th></th>\n",
       "      <th>HM-NE</th>\n",
       "      <th>CF-NE</th>\n",
       "      <th>FF-NE</th>\n",
       "      <th>HM-SW</th>\n",
       "      <th>CF-SW</th>\n",
       "      <th>FF-SW</th>\n",
       "      <th>HM-NW</th>\n",
       "      <th>CF-NW</th>\n",
       "      <th>FF-NW</th>\n",
       "      <th>HM-SE</th>\n",
       "      <th>CF-SE</th>\n",
       "      <th>FF-SE</th>\n",
       "      <th>HM-C</th>\n",
       "      <th>CF-C</th>\n",
       "      <th>FF-C</th>\n",
       "    </tr>\n",
       "    <tr>\n",
       "      <th>Day of Week</th>\n",
       "      <th></th>\n",
       "      <th></th>\n",
       "      <th></th>\n",
       "      <th></th>\n",
       "      <th></th>\n",
       "      <th></th>\n",
       "      <th></th>\n",
       "      <th></th>\n",
       "      <th></th>\n",
       "      <th></th>\n",
       "      <th></th>\n",
       "      <th></th>\n",
       "      <th></th>\n",
       "      <th></th>\n",
       "      <th></th>\n",
       "    </tr>\n",
       "  </thead>\n",
       "  <tbody>\n",
       "    <tr>\n",
       "      <th>Monday</th>\n",
       "      <td>36851.75</td>\n",
       "      <td>16411.00</td>\n",
       "      <td>9284.25</td>\n",
       "      <td>34916.0</td>\n",
       "      <td>16115.00</td>\n",
       "      <td>9241.25</td>\n",
       "      <td>37262.75</td>\n",
       "      <td>15342.5</td>\n",
       "      <td>8649.75</td>\n",
       "      <td>35160.25</td>\n",
       "      <td>14291.5</td>\n",
       "      <td>8712.75</td>\n",
       "      <td>37177.75</td>\n",
       "      <td>14883.75</td>\n",
       "      <td>8863.50</td>\n",
       "    </tr>\n",
       "    <tr>\n",
       "      <th>Tuesday</th>\n",
       "      <td>37134.25</td>\n",
       "      <td>16027.75</td>\n",
       "      <td>9576.50</td>\n",
       "      <td>35669.0</td>\n",
       "      <td>14758.75</td>\n",
       "      <td>8891.50</td>\n",
       "      <td>36158.50</td>\n",
       "      <td>15496.5</td>\n",
       "      <td>8787.75</td>\n",
       "      <td>34840.50</td>\n",
       "      <td>15077.5</td>\n",
       "      <td>8402.50</td>\n",
       "      <td>36539.50</td>\n",
       "      <td>14164.75</td>\n",
       "      <td>8498.00</td>\n",
       "    </tr>\n",
       "    <tr>\n",
       "      <th>Wednesday</th>\n",
       "      <td>36671.75</td>\n",
       "      <td>16443.75</td>\n",
       "      <td>9513.75</td>\n",
       "      <td>36445.0</td>\n",
       "      <td>15202.00</td>\n",
       "      <td>9503.50</td>\n",
       "      <td>36393.75</td>\n",
       "      <td>15431.0</td>\n",
       "      <td>9328.75</td>\n",
       "      <td>35664.75</td>\n",
       "      <td>14814.5</td>\n",
       "      <td>8867.50</td>\n",
       "      <td>36129.50</td>\n",
       "      <td>14558.00</td>\n",
       "      <td>8992.00</td>\n",
       "    </tr>\n",
       "    <tr>\n",
       "      <th>Thursday</th>\n",
       "      <td>36636.00</td>\n",
       "      <td>16469.50</td>\n",
       "      <td>11797.50</td>\n",
       "      <td>35963.5</td>\n",
       "      <td>14483.00</td>\n",
       "      <td>9390.75</td>\n",
       "      <td>35413.00</td>\n",
       "      <td>16250.5</td>\n",
       "      <td>9273.75</td>\n",
       "      <td>35132.75</td>\n",
       "      <td>14579.0</td>\n",
       "      <td>8802.25</td>\n",
       "      <td>36322.00</td>\n",
       "      <td>14123.00</td>\n",
       "      <td>9093.25</td>\n",
       "    </tr>\n",
       "    <tr>\n",
       "      <th>Friday</th>\n",
       "      <td>36478.20</td>\n",
       "      <td>15701.60</td>\n",
       "      <td>7634.20</td>\n",
       "      <td>37828.4</td>\n",
       "      <td>15783.60</td>\n",
       "      <td>10821.00</td>\n",
       "      <td>36121.60</td>\n",
       "      <td>15422.8</td>\n",
       "      <td>10405.60</td>\n",
       "      <td>35506.80</td>\n",
       "      <td>14695.2</td>\n",
       "      <td>11769.40</td>\n",
       "      <td>35986.00</td>\n",
       "      <td>14296.00</td>\n",
       "      <td>12136.60</td>\n",
       "    </tr>\n",
       "    <tr>\n",
       "      <th>Saturday</th>\n",
       "      <td>36361.20</td>\n",
       "      <td>14994.20</td>\n",
       "      <td>7400.20</td>\n",
       "      <td>35949.2</td>\n",
       "      <td>14175.00</td>\n",
       "      <td>7992.80</td>\n",
       "      <td>35332.20</td>\n",
       "      <td>15176.4</td>\n",
       "      <td>8536.60</td>\n",
       "      <td>36173.40</td>\n",
       "      <td>14735.8</td>\n",
       "      <td>7831.40</td>\n",
       "      <td>36550.40</td>\n",
       "      <td>14779.20</td>\n",
       "      <td>8345.40</td>\n",
       "    </tr>\n",
       "    <tr>\n",
       "      <th>Sunday</th>\n",
       "      <td>37516.60</td>\n",
       "      <td>15983.00</td>\n",
       "      <td>9875.60</td>\n",
       "      <td>36740.6</td>\n",
       "      <td>15308.00</td>\n",
       "      <td>7792.80</td>\n",
       "      <td>34687.40</td>\n",
       "      <td>15800.2</td>\n",
       "      <td>7806.60</td>\n",
       "      <td>34688.00</td>\n",
       "      <td>14811.8</td>\n",
       "      <td>7322.80</td>\n",
       "      <td>35823.80</td>\n",
       "      <td>14932.80</td>\n",
       "      <td>7484.40</td>\n",
       "    </tr>\n",
       "  </tbody>\n",
       "</table>\n",
       "</div>"
      ],
      "text/plain": [
       "                HM-NE     CF-NE     FF-NE    HM-SW     CF-SW     FF-SW  \\\n",
       "Day of Week                                                              \n",
       "Monday       36851.75  16411.00   9284.25  34916.0  16115.00   9241.25   \n",
       "Tuesday      37134.25  16027.75   9576.50  35669.0  14758.75   8891.50   \n",
       "Wednesday    36671.75  16443.75   9513.75  36445.0  15202.00   9503.50   \n",
       "Thursday     36636.00  16469.50  11797.50  35963.5  14483.00   9390.75   \n",
       "Friday       36478.20  15701.60   7634.20  37828.4  15783.60  10821.00   \n",
       "Saturday     36361.20  14994.20   7400.20  35949.2  14175.00   7992.80   \n",
       "Sunday       37516.60  15983.00   9875.60  36740.6  15308.00   7792.80   \n",
       "\n",
       "                HM-NW    CF-NW     FF-NW     HM-SE    CF-SE     FF-SE  \\\n",
       "Day of Week                                                             \n",
       "Monday       37262.75  15342.5   8649.75  35160.25  14291.5   8712.75   \n",
       "Tuesday      36158.50  15496.5   8787.75  34840.50  15077.5   8402.50   \n",
       "Wednesday    36393.75  15431.0   9328.75  35664.75  14814.5   8867.50   \n",
       "Thursday     35413.00  16250.5   9273.75  35132.75  14579.0   8802.25   \n",
       "Friday       36121.60  15422.8  10405.60  35506.80  14695.2  11769.40   \n",
       "Saturday     35332.20  15176.4   8536.60  36173.40  14735.8   7831.40   \n",
       "Sunday       34687.40  15800.2   7806.60  34688.00  14811.8   7322.80   \n",
       "\n",
       "                 HM-C      CF-C      FF-C  \n",
       "Day of Week                                \n",
       "Monday       37177.75  14883.75   8863.50  \n",
       "Tuesday      36539.50  14164.75   8498.00  \n",
       "Wednesday    36129.50  14558.00   8992.00  \n",
       "Thursday     36322.00  14123.00   9093.25  \n",
       "Friday       35986.00  14296.00  12136.60  \n",
       "Saturday     36550.40  14779.20   8345.40  \n",
       "Sunday       35823.80  14932.80   7484.40  "
      ]
     },
     "execution_count": 128,
     "metadata": {},
     "output_type": "execute_result"
    }
   ],
   "source": [
    "avgs = daily.groupby('Day of Week').apply(np.mean)\n",
    "avgs"
   ]
  },
  {
   "cell_type": "code",
   "execution_count": 112,
   "metadata": {},
   "outputs": [],
   "source": [
    "regional = avgs.T\n",
    "regional.index = [regional.index.str[:2], regional.index.str[3:]]\n",
    "regional = regional.rename_axis((\"food\", \"region\"))\n",
    "regional.sort_index(inplace = True)"
   ]
  },
  {
   "cell_type": "code",
   "execution_count": 141,
   "metadata": {},
   "outputs": [
    {
     "data": {
      "text/plain": [
       "['NE', 'NW', 'SE', 'SW', 'C']"
      ]
     },
     "execution_count": 141,
     "metadata": {},
     "output_type": "execute_result"
    }
   ],
   "source": [
    "regions"
   ]
  },
  {
   "cell_type": "code",
   "execution_count": 136,
   "metadata": {},
   "outputs": [
    {
     "data": {
      "text/html": [
       "<div>\n",
       "<style scoped>\n",
       "    .dataframe tbody tr th:only-of-type {\n",
       "        vertical-align: middle;\n",
       "    }\n",
       "\n",
       "    .dataframe tbody tr th {\n",
       "        vertical-align: top;\n",
       "    }\n",
       "\n",
       "    .dataframe thead th {\n",
       "        text-align: right;\n",
       "    }\n",
       "</style>\n",
       "<table border=\"1\" class=\"dataframe\">\n",
       "  <thead>\n",
       "    <tr style=\"text-align: right;\">\n",
       "      <th></th>\n",
       "      <th></th>\n",
       "      <th>Average Peak</th>\n",
       "      <th>Average Weak</th>\n",
       "    </tr>\n",
       "    <tr>\n",
       "      <th>food</th>\n",
       "      <th>region</th>\n",
       "      <th></th>\n",
       "      <th></th>\n",
       "    </tr>\n",
       "  </thead>\n",
       "  <tbody>\n",
       "    <tr>\n",
       "      <th rowspan=\"5\" valign=\"top\">CF</th>\n",
       "      <th>C</th>\n",
       "      <td>Sunday</td>\n",
       "      <td>Thursday</td>\n",
       "    </tr>\n",
       "    <tr>\n",
       "      <th>NE</th>\n",
       "      <td>Thursday</td>\n",
       "      <td>Saturday</td>\n",
       "    </tr>\n",
       "    <tr>\n",
       "      <th>NW</th>\n",
       "      <td>Thursday</td>\n",
       "      <td>Saturday</td>\n",
       "    </tr>\n",
       "    <tr>\n",
       "      <th>SE</th>\n",
       "      <td>Tuesday</td>\n",
       "      <td>Monday</td>\n",
       "    </tr>\n",
       "    <tr>\n",
       "      <th>SW</th>\n",
       "      <td>Monday</td>\n",
       "      <td>Saturday</td>\n",
       "    </tr>\n",
       "    <tr>\n",
       "      <th rowspan=\"5\" valign=\"top\">FF</th>\n",
       "      <th>C</th>\n",
       "      <td>Friday</td>\n",
       "      <td>Sunday</td>\n",
       "    </tr>\n",
       "    <tr>\n",
       "      <th>NE</th>\n",
       "      <td>Thursday</td>\n",
       "      <td>Saturday</td>\n",
       "    </tr>\n",
       "    <tr>\n",
       "      <th>NW</th>\n",
       "      <td>Friday</td>\n",
       "      <td>Sunday</td>\n",
       "    </tr>\n",
       "    <tr>\n",
       "      <th>SE</th>\n",
       "      <td>Friday</td>\n",
       "      <td>Sunday</td>\n",
       "    </tr>\n",
       "    <tr>\n",
       "      <th>SW</th>\n",
       "      <td>Friday</td>\n",
       "      <td>Sunday</td>\n",
       "    </tr>\n",
       "    <tr>\n",
       "      <th rowspan=\"5\" valign=\"top\">HM</th>\n",
       "      <th>C</th>\n",
       "      <td>Monday</td>\n",
       "      <td>Sunday</td>\n",
       "    </tr>\n",
       "    <tr>\n",
       "      <th>NE</th>\n",
       "      <td>Sunday</td>\n",
       "      <td>Saturday</td>\n",
       "    </tr>\n",
       "    <tr>\n",
       "      <th>NW</th>\n",
       "      <td>Monday</td>\n",
       "      <td>Sunday</td>\n",
       "    </tr>\n",
       "    <tr>\n",
       "      <th>SE</th>\n",
       "      <td>Saturday</td>\n",
       "      <td>Sunday</td>\n",
       "    </tr>\n",
       "    <tr>\n",
       "      <th>SW</th>\n",
       "      <td>Friday</td>\n",
       "      <td>Monday</td>\n",
       "    </tr>\n",
       "  </tbody>\n",
       "</table>\n",
       "</div>"
      ],
      "text/plain": [
       "            Average Peak Average Weak\n",
       "food region                          \n",
       "CF   C            Sunday     Thursday\n",
       "     NE         Thursday     Saturday\n",
       "     NW         Thursday     Saturday\n",
       "     SE          Tuesday       Monday\n",
       "     SW           Monday     Saturday\n",
       "FF   C            Friday       Sunday\n",
       "     NE         Thursday     Saturday\n",
       "     NW           Friday       Sunday\n",
       "     SE           Friday       Sunday\n",
       "     SW           Friday       Sunday\n",
       "HM   C            Monday       Sunday\n",
       "     NE           Sunday     Saturday\n",
       "     NW           Monday       Sunday\n",
       "     SE         Saturday       Sunday\n",
       "     SW           Friday       Monday"
      ]
     },
     "execution_count": 136,
     "metadata": {},
     "output_type": "execute_result"
    }
   ],
   "source": [
    "peak_days = regional.T.idxmax()\n",
    "weak_days = regional.T.idxmin()\n",
    "daysFrame = pd.DataFrame([peak_days, weak_days], index = ['Average Peak', 'Average Weak']).T\n",
    "daysFrame"
   ]
  },
  {
   "cell_type": "code",
   "execution_count": 137,
   "metadata": {},
   "outputs": [
    {
     "data": {
      "image/png": "[encoded data removed]",
      "text/plain": [
       "<Figure size 432x288 with 1 Axes>"
      ]
     },
     "metadata": {
      "needs_background": "light"
     },
     "output_type": "display_data"
    },
    {
     "data": {
      "image/png": "[encoded data removed]",
      "text/plain": [
       "<Figure size 432x288 with 1 Axes>"
      ]
     },
     "metadata": {
      "needs_background": "light"
     },
     "output_type": "display_data"
    },
    {
     "data": {
      "image/png": "[encoded data removed]",
      "text/plain": [
       "<Figure size 432x288 with 1 Axes>"
      ]
     },
     "metadata": {
      "needs_background": "light"
     },
     "output_type": "display_data"
    },
    {
     "data": {
      "image/png": "[encoded data removed]",
      "text/plain": [
       "<Figure size 432x288 with 1 Axes>"
      ]
     },
     "metadata": {
      "needs_background": "light"
     },
     "output_type": "display_data"
    },
    {
     "data": {
      "image/png": "[encoded data removed]",
      "text/plain": [
       "<Figure size 432x288 with 1 Axes>"
      ]
     },
     "metadata": {
      "needs_background": "light"
     },
     "output_type": "display_data"
    }
   ],
   "source": [
    "regions = ['NE', 'NW', 'SE', 'SW', 'C']\n",
    "for reg in regions:\n",
    "    reg_label = '-' + reg\n",
    "    region_cols = [col for col in avgs.columns if reg_label in col]\n",
    "    avgs[region_cols].plot.bar(stacked = True)"
   ]
  },
  {
   "cell_type": "code",
   "execution_count": null,
   "metadata": {},
   "outputs": [],
   "source": []
  }
 ],
 "metadata": {
  "kernelspec": {
   "display_name": "Python 3",
   "language": "python",
   "name": "python3"
  },
  "language_info": {
   "codemirror_mode": {
    "name": "ipython",
    "version": 3
   },
   "file_extension": ".py",
   "mimetype": "text/x-python",
   "name": "python",
   "nbconvert_exporter": "python",
   "pygments_lexer": "ipython3",
   "version": "3.7.3"
  }
 },
 "nbformat": 4,
 "nbformat_minor": 4
}
